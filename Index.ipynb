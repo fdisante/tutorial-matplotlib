{
 "cells": [
  {
   "cell_type": "markdown",
   "id": "1486c484",
   "metadata": {
    "slideshow": {
     "slide_type": "slide"
    }
   },
   "source": [
    "<h1 style=\"text-align: center;\">Plotting_with_matplotilib</h1>"
   ]
  },
  {
   "cell_type": "markdown",
   "id": "668b048f-9f25-43af-8bb0-78129ae68f2d",
   "metadata": {
    "slideshow": {
     "slide_type": "slide"
    }
   },
   "source": [
    "### Matplotlib\n",
    "Matplotlib is for definition the plot library for Python:\n",
    "- Low-level library\n",
    "- Very versatile\n",
    "- Most diffuse plot library for Python\n",
    "- Highly costumizable\n",
    "- Well Documented\n",
    "- Some features like style selections and toolkits available\n",
    "\n",
    "#### Cons\n",
    "- complex to make non-basic plots \n",
    "- adjust the plots to look nice need some efforts."
   ]
  },
  {
   "cell_type": "markdown",
   "id": "da1b641a",
   "metadata": {
    "slideshow": {
     "slide_type": "slide"
    }
   },
   "source": [
    "### Toolkits \n",
    "Toolkits extend Matplotlib functionality:\n",
    "\n",
    "- Cartopy: a mapping library and also point, line and polygon features.\n",
    "- GeoPandas : Pandas extended to support geographical data and algorithms.\n",
    "- Datashader : Server-side rendering of large datasets as Matplotlib figures.\n",
    "- MetPy : A Python toolkit for meteorological applications.\n",
    "- seaborn : High-level interface for drawing attractive statistical graphics.\n",
    "\n",
    "For a complete list:  \n",
    "https://matplotlib.org/mpl-third-party/#colormaps-and-styles"
   ]
  },
  {
   "cell_type": "markdown",
   "id": "a1d40da7",
   "metadata": {
    "slideshow": {
     "slide_type": "slide"
    }
   },
   "source": [
    "#### Start importing libraries and open the netcdf file with xarray"
   ]
  },
  {
   "cell_type": "code",
   "execution_count": null,
   "id": "14b275a5",
   "metadata": {
    "slideshow": {
     "slide_type": "-"
    }
   },
   "outputs": [],
   "source": [
    "import matplotlib.pyplot as plt\n",
    "import numpy as np\n",
    "import xarray as xr"
   ]
  },
  {
   "cell_type": "code",
   "execution_count": null,
   "id": "f6f297a3",
   "metadata": {
    "slideshow": {
     "slide_type": "-"
    }
   },
   "outputs": [],
   "source": [
    "ds = xr.open_dataset('20230101_m-OGS--PFTC-MedBFM4-MED-b20230214_an-sv08.00_lev.nc')"
   ]
  },
  {
   "cell_type": "code",
   "execution_count": null,
   "id": "f486da24",
   "metadata": {
    "slideshow": {
     "slide_type": "slide"
    }
   },
   "outputs": [],
   "source": [
    "ds"
   ]
  },
  {
   "cell_type": "code",
   "execution_count": null,
   "id": "7fb48cd3",
   "metadata": {
    "slideshow": {
     "slide_type": "slide"
    }
   },
   "outputs": [],
   "source": [
    "ds.data_vars"
   ]
  },
  {
   "cell_type": "code",
   "execution_count": null,
   "id": "6a9b9f37",
   "metadata": {},
   "outputs": [],
   "source": [
    "ds.phyc.long_name"
   ]
  },
  {
   "cell_type": "markdown",
   "id": "88bca988",
   "metadata": {
    "slideshow": {
     "slide_type": "slide"
    }
   },
   "source": [
    "### Create a new data array containing phytoplankton and then search for the layer nearest to depth 1km\n"
   ]
  },
  {
   "cell_type": "code",
   "execution_count": null,
   "id": "e37cf83e",
   "metadata": {
    "slideshow": {
     "slide_type": "subslide"
    }
   },
   "outputs": [],
   "source": [
    "phytoplankton = ds.phyc"
   ]
  },
  {
   "cell_type": "code",
   "execution_count": null,
   "id": "e1b1e113",
   "metadata": {
    "slideshow": {
     "slide_type": "skip"
    }
   },
   "outputs": [],
   "source": [
    "phytoplankton.sel(depth=[10], method=\"nearest\")"
   ]
  },
  {
   "cell_type": "code",
   "execution_count": null,
   "id": "6009a24f",
   "metadata": {
    "slideshow": {
     "slide_type": "subslide"
    }
   },
   "outputs": [],
   "source": [
    "phytoplankton_1km = phytoplankton.sel(depth=[10], method=\"nearest\")\n",
    "# phytoplankton_1km = phytoplankton.isel(depth=73) --> if I know the position in the array"
   ]
  },
  {
   "cell_type": "markdown",
   "id": "adbf65c7",
   "metadata": {
    "slideshow": {
     "slide_type": "slide"
    }
   },
   "source": [
    "### Take a look at phytoplankton_1km"
   ]
  },
  {
   "cell_type": "code",
   "execution_count": null,
   "id": "577cf392",
   "metadata": {
    "slideshow": {
     "slide_type": "fragment"
    }
   },
   "outputs": [],
   "source": [
    "phytoplankton_1km.plot()"
   ]
  },
  {
   "cell_type": "markdown",
   "id": "cde42d79",
   "metadata": {
    "slideshow": {
     "slide_type": "slide"
    }
   },
   "source": [
    "### Focus on the Adriatic Sea"
   ]
  },
  {
   "cell_type": "code",
   "execution_count": null,
   "id": "7123ad59",
   "metadata": {},
   "outputs": [],
   "source": [
    "lon = ds.coords[\"longitude\"]\n",
    "lat = ds.coords[\"latitude\"]\n",
    "phytoplankton_1km.loc[dict(longitude=lon[(lon > 12) & (lon < 16)], latitude=lat[(lat > 41) & (lat < 46)])].plot()"
   ]
  },
  {
   "cell_type": "code",
   "execution_count": null,
   "id": "579eeece",
   "metadata": {
    "slideshow": {
     "slide_type": "slide"
    }
   },
   "outputs": [],
   "source": [
    "phyc_adriatic_sea_1km = phytoplankton_1km[0,0].loc[\n",
    "    dict(longitude=lon[(lon > 12) & (lon < 16)], \n",
    "         latitude=lat[(lat > 41) & (lat < 46)])]\n",
    "phyc_adriatic_sea_1km"
   ]
  },
  {
   "cell_type": "markdown",
   "id": "35324b64-269b-4cac-86fe-d8bfbae77af3",
   "metadata": {
    "slideshow": {
     "slide_type": "slide"
    }
   },
   "source": [
    "## Plot with Matplotlib"
   ]
  },
  {
   "cell_type": "markdown",
   "id": "02390033-00f9-4bfc-818f-511453f59854",
   "metadata": {},
   "source": [
    "### Basics"
   ]
  },
  {
   "cell_type": "markdown",
   "id": "15c5a8ec-f85f-4b9b-aaba-7799265e27f5",
   "metadata": {},
   "source": [
    "figsize(width, height)"
   ]
  },
  {
   "cell_type": "markdown",
   "id": "2e97f9d8-4141-43bc-b3b4-b217845a4f53",
   "metadata": {},
   "source": [
    "#### Different Layout engines"
   ]
  },
  {
   "cell_type": "code",
   "execution_count": null,
   "id": "45d13704-b336-45f4-a054-0bcbe2cc0408",
   "metadata": {},
   "outputs": [],
   "source": [
    "fontsize = 12"
   ]
  },
  {
   "cell_type": "code",
   "execution_count": null,
   "id": "6f1bc737-f0ef-4b13-8f8f-624fe249337e",
   "metadata": {},
   "outputs": [],
   "source": [
    "fig, axes = plt.subplots(2,2,figsize=(6, 6))\n",
    "titles = [[\"One\",\"Two\"],[\"Three\",\"Four\"]]\n",
    "for col in range(2):\n",
    "    for row in range(2):\n",
    "        ax = axes[row, col]\n",
    "        title = titles[col][row]\n",
    "        im =ax.pcolormesh(\n",
    "          phyc_adriatic_sea_1km.values)\n",
    "        ax.set_title(title)\n",
    "        ax.set_xlabel('x-label', fontsize=fontsize)\n",
    "        ax.set_ylabel('y-label', fontsize=fontsize)\n",
    "        fig.colorbar(im, ax=ax, shrink=0.6)"
   ]
  },
  {
   "cell_type": "code",
   "execution_count": null,
   "id": "b7f87177-e24a-4efe-b5b9-610852c74163",
   "metadata": {},
   "outputs": [],
   "source": [
    "fig, axes = plt.subplots(2,2,figsize=(6, 6), layout='constrained')\n",
    "titles = [[\"One\",\"Two\"],[\"Three\",\"Four\"]]\n",
    "for col in range(2):\n",
    "    for row in range(2):\n",
    "        title = titles[col][row]\n",
    "        ax = axes[row, col]\n",
    "        im = ax.pcolormesh(\n",
    "          phyc_adriatic_sea_1km.values)\n",
    "        ax.set_title(title)\n",
    "        ax.set_xlabel('x-label', fontsize=fontsize)\n",
    "        ax.set_ylabel('y-label', fontsize=fontsize)\n",
    "        fig.colorbar(im, ax=ax, shrink=0.6)"
   ]
  },
  {
   "cell_type": "code",
   "execution_count": null,
   "id": "4a15a787-230e-44f7-9d70-dcabdb1ed271",
   "metadata": {},
   "outputs": [],
   "source": [
    "fig, axes = plt.subplots(2,2,figsize=(6, 6), layout='compressed')\n",
    "titles = [[\"One\",\"Two\"],[\"Three\",\"Four\"]]\n",
    "for col in range(2):\n",
    "    for row in range(2):\n",
    "        title = titles[col][row]\n",
    "        ax = axes[row, col]\n",
    "        im = ax.pcolormesh(\n",
    "          phyc_adriatic_sea_1km.values)\n",
    "        ax.set_title(title)\n",
    "        ax.set_xlabel('x-label', fontsize=fontsize)\n",
    "        ax.set_ylabel('y-label', fontsize=fontsize)\n",
    "        fig.colorbar(im, ax=ax, shrink=0.6)"
   ]
  },
  {
   "cell_type": "code",
   "execution_count": null,
   "id": "abd6e0d2-c2e6-436e-8c43-69df1b90265e",
   "metadata": {},
   "outputs": [],
   "source": [
    "fig, axes = plt.subplots(2,2,figsize=(6, 6), layout='tight')\n",
    "titles = [[\"One\",\"Two\"],[\"Three\",\"Four\"]]\n",
    "print(titles)\n",
    "for col in range(2):\n",
    "    for row in range(2):\n",
    "        title = titles[col][row]\n",
    "        ax = axes[row, col]\n",
    "        im = ax.pcolormesh(\n",
    "          phyc_adriatic_sea_1km.values)\n",
    "        ax.set_title(title)\n",
    "        ax.set_xlabel('x-label', fontsize=fontsize)\n",
    "        ax.set_ylabel('y-label', fontsize=fontsize)\n",
    "        fig.colorbar(im, ax=ax, shrink=0.6)"
   ]
  },
  {
   "cell_type": "code",
   "execution_count": null,
   "id": "9172e740-39a1-4130-8d04-8a767ac2d7fe",
   "metadata": {},
   "outputs": [],
   "source": [
    "fig, axes = plt.subplots(2,2,figsize=(6, 6), layout='constrained')\n",
    "titles = [[\"One\",\"Two\"],[\"Three\",\"Four\"]]\n",
    "for col in range(2):\n",
    "    for row in range(2):\n",
    "        title = titles[col][row]\n",
    "        ax = axes[row, col]\n",
    "        im = ax.pcolormesh(\n",
    "          phyc_adriatic_sea_1km.values)\n",
    "        ax.set_title(title)\n",
    "        ax.set_xlabel('x-label', fontsize=fontsize)\n",
    "        ax.set_ylabel('y-label', fontsize=fontsize)\n",
    "fig.colorbar(im, ax=axes, shrink=0.6)"
   ]
  },
  {
   "cell_type": "markdown",
   "id": "823492a9-b602-4b2a-afb1-50814e075b32",
   "metadata": {},
   "source": [
    "Ref for colorbar placement: https://matplotlib.org/stable/users/explain/axes/colorbar_placement.html#sphx-glr-users-explain-axes-colorbar-placement-py"
   ]
  },
  {
   "cell_type": "markdown",
   "id": "63a63e8b-6dd1-4f7e-b518-bbeb3fa5b5ca",
   "metadata": {},
   "source": [
    "### Use of subplot_mosaic"
   ]
  },
  {
   "cell_type": "code",
   "execution_count": null,
   "id": "cdcfae62-24db-409d-8a67-be479aaec83a",
   "metadata": {},
   "outputs": [],
   "source": [
    "fig = plt.figure(layout=\"constrained\")\n",
    "ax_dict = fig.subplot_mosaic(\n",
    "    [\n",
    "        [\"one\", \"two\"],\n",
    "        [\"three\", \"four\"],\n",
    "    ],\n",
    ")\n",
    "ax_dict[\"one\"].bar([\"a\", \"b\", \"c\"], [5, 7, 9])\n",
    "ax_dict[\"two\"].plot([1, 2, 3])\n",
    "ax_dict[\"three\"].pcolormesh(\n",
    "          phyc_adriatic_sea_1km.values)\n",
    "ax_dict[\"four\"].imshow([[1, 2], [2, 1]])"
   ]
  },
  {
   "cell_type": "markdown",
   "id": "8f4bebb8-4959-4bb6-bfbc-0a58b8a0424b",
   "metadata": {},
   "source": [
    "### Different ways to plot raster data in matplotlib"
   ]
  },
  {
   "cell_type": "code",
   "execution_count": null,
   "id": "aa76bbdd",
   "metadata": {},
   "outputs": [],
   "source": [
    "fig, ax = plt.subplots(2,2,figsize=(6, 6), layout='constrained')\n",
    "ax[0,0].pcolormesh(\n",
    "    phyc_adriatic_sea_1km.values\n",
    ")\n",
    "ax[0,0].set_title(\"Pseudocolor plot using quadrilaterals\")\n",
    "ax[0,1].pcolormesh(\n",
    "    phyc_adriatic_sea_1km.longitude,\n",
    "    phyc_adriatic_sea_1km.latitude,\n",
    "    phyc_adriatic_sea_1km.values\n",
    ")\n",
    "ax[0,1].set_title(\"Pseudocolor plot (lat,lon)\")\n",
    "ax[1,0].contourf(\n",
    "    phyc_adriatic_sea_1km.longitude, \n",
    "    phyc_adriatic_sea_1km.latitude, \n",
    "    phyc_adriatic_sea_1km.values)\n",
    "ax[1,0].set_title(\"Discrete levels plot\")\n",
    "\n",
    "levels = np.linspace(\n",
    "    phyc_adriatic_sea_1km.min().values, \n",
    "    phyc_adriatic_sea_1km.max().values, 20\n",
    ")\n",
    "print(levels)\n",
    "\n",
    "ax[1,1].contourf(\n",
    "    phyc_adriatic_sea_1km.longitude, \n",
    "    phyc_adriatic_sea_1km.latitude, \n",
    "    phyc_adriatic_sea_1km.values,\n",
    "    levels\n",
    ")\n",
    "ax[1,1].set_title(\"Discrete levels plot (custom)\")\n"
   ]
  },
  {
   "cell_type": "markdown",
   "id": "e2e93a84",
   "metadata": {
    "slideshow": {
     "slide_type": "slide"
    }
   },
   "source": [
    "### Introducing Cartopy"
   ]
  },
  {
   "cell_type": "markdown",
   "id": "2a273a95",
   "metadata": {
    "slideshow": {
     "slide_type": "subslide"
    }
   },
   "source": [
    "\"Cartopy is a Python package designed for geospatial data processing in order to produce maps and other geospatial data analyses.\n",
    "\n",
    "Cartopy makes use of the powerful PROJ, NumPy and Shapely libraries and includes a programmatic interface built on top of Matplotlib for the creation of publication quality maps.\n",
    "\n",
    "Key features of cartopy are its object oriented projection definitions, and its ability to transform points, lines, vectors, polygons and images between those projections.\n",
    "\n",
    "You will find cartopy especially useful for large area / small scale data, where Cartesian assumptions of spherical data traditionally break down. If you’ve ever experienced a singularity at the pole or a cut-off at the dateline, it is likely you will appreciate cartopy’s unique features!\"\n",
    "\n",
    "https://scitools.org.uk/cartopy/docs/latest/"
   ]
  },
  {
   "cell_type": "markdown",
   "id": "07ca1ac1",
   "metadata": {
    "slideshow": {
     "slide_type": "slide"
    }
   },
   "source": [
    "### Create an empty map"
   ]
  },
  {
   "cell_type": "code",
   "execution_count": null,
   "id": "d6ccfca4",
   "metadata": {},
   "outputs": [],
   "source": [
    "import cartopy.crs as ccrs\n",
    "import cartopy\n",
    "\n",
    "fig = plt.figure(figsize=[12,6])\n",
    "ax1 = fig.add_subplot(121, projection=ccrs.PlateCarree())\n",
    "\n",
    "ax2 = fig.add_subplot(122,projection=ccrs.Mollweide())\n",
    "\n",
    "ax1.coastlines()\n",
    "ax2.coastlines()\n",
    "\n",
    "ax1.gridlines()\n",
    "ax2.gridlines()\n",
    "\n",
    "plt.show()"
   ]
  },
  {
   "cell_type": "markdown",
   "id": "2a360aae",
   "metadata": {
    "slideshow": {
     "slide_type": "slide"
    }
   },
   "source": [
    "### Adding some features"
   ]
  },
  {
   "cell_type": "code",
   "execution_count": null,
   "id": "48e21ab9",
   "metadata": {
    "slideshow": {
     "slide_type": "subslide"
    }
   },
   "outputs": [],
   "source": [
    "fig1 = plt.figure(figsize=(10, 10))\n",
    "\n",
    "ax1 = fig1.add_subplot(111, projection=ccrs.PlateCarree())\n",
    "\n",
    "ax1.axis(\"off\")\n",
    "ax1.set_xticks(ax1.get_xticks())\n",
    "ax1.set_yticks(ax1.get_yticks())\n",
    "ax1.add_feature(cartopy.feature.LAND)\n",
    "ax1.add_feature(cartopy.feature.OCEAN)\n",
    "ax1.add_feature(cartopy.feature.COASTLINE)\n",
    "ax1.add_feature(cartopy.feature.BORDERS, edgecolor=\"k\", linestyle=\":\")\n",
    "ax1.add_feature(cartopy.feature.LAKES)\n",
    "ax1.add_feature(cartopy.feature.RIVERS, edgecolor=\"b\")"
   ]
  },
  {
   "cell_type": "markdown",
   "id": "36127ced",
   "metadata": {
    "slideshow": {
     "slide_type": "slide"
    }
   },
   "source": [
    "#### Pay attention: open issue on cartopy: https://github.com/SciTools/cartopy/issues/1030\n",
    "* area filling requires color\n",
    "    - ax1.add_feature(cartopy.feature.OCEAN, **color**='purple')\n",
    "* lines require edgecolor\n",
    "    - ax1.add_feature(cartopy.feature.RIVERS, **edgecolor**='blue')"
   ]
  },
  {
   "cell_type": "markdown",
   "id": "e1c51eef",
   "metadata": {
    "slideshow": {
     "slide_type": "slide"
    }
   },
   "source": [
    "#### Centering the plot on Mediterranean Sea"
   ]
  },
  {
   "cell_type": "code",
   "execution_count": null,
   "id": "39a31d0d",
   "metadata": {},
   "outputs": [],
   "source": [
    "fig1 = plt.figure(figsize=(8, 8))\n",
    "ax1 = fig1.add_subplot(1, 1, 1, projection=ccrs.PlateCarree())\n",
    "ax1.set_extent([\n",
    "    phytoplankton.longitude.min(),\n",
    "    phytoplankton.longitude.max(),\n",
    "    phytoplankton.latitude.min(),\n",
    "    phytoplankton.latitude.max()\n",
    "], crs=ccrs.PlateCarree())\n",
    "\n",
    "ax1.axis(\"off\")\n",
    "ax1.set_xticks(ax1.get_xticks())\n",
    "ax1.set_yticks(ax1.get_yticks())\n",
    "ax1.add_feature(cartopy.feature.LAND, color='green')\n",
    "ax1.add_feature(cartopy.feature.OCEAN, color='purple')\n",
    "ax1.add_feature(cartopy.feature.COASTLINE, edgecolor='red')\n",
    "ax1.add_feature(cartopy.feature.BORDERS, edgecolor='k', linestyle=\":\")\n",
    "ax1.add_feature(cartopy.feature.LAKES, color='cyan')\n",
    "ax1.add_feature(cartopy.feature.RIVERS, edgecolor='blue')"
   ]
  },
  {
   "cell_type": "markdown",
   "id": "40b3ca59-7dc1-49c9-a604-70b45e57c6c9",
   "metadata": {},
   "source": [
    "#### ... and to Adriatic Sea"
   ]
  },
  {
   "cell_type": "code",
   "execution_count": null,
   "id": "d53fa7de",
   "metadata": {
    "slideshow": {
     "slide_type": "slide"
    }
   },
   "outputs": [],
   "source": [
    "fig1 = plt.figure(figsize=(8, 8))\n",
    "\n",
    "ax1 = fig1.add_subplot(111, projection=ccrs.PlateCarree())\n",
    "ax1.set_extent([\n",
    "    phyc_adriatic_sea_1km.longitude.min(),\n",
    "    phyc_adriatic_sea_1km.longitude.max(),\n",
    "    phyc_adriatic_sea_1km.latitude.min(),\n",
    "    phyc_adriatic_sea_1km.latitude.max()\n",
    "], crs=ccrs.PlateCarree())\n",
    "\n",
    "ax1.axis(\"off\")\n",
    "ax1.set_xticks(ax1.get_xticks())\n",
    "ax1.set_yticks(ax1.get_yticks())\n",
    "ax1.add_feature(cartopy.feature.LAND)\n",
    "ax1.add_feature(cartopy.feature.OCEAN)\n",
    "ax1.add_feature(cartopy.feature.COASTLINE)\n",
    "ax1.add_feature(cartopy.feature.BORDERS, edgecolor=\"k\", linestyle=\":\")\n",
    "ax1.add_feature(cartopy.feature.LAKES)\n",
    "ax1.add_feature(cartopy.feature.RIVERS, edgecolor=\"b\")\n",
    "ax1.gridlines(\n",
    "    crs=ccrs.PlateCarree(),\n",
    "    draw_labels=True,\n",
    "    linewidth=2,\n",
    "    edgecolor=\"gray\",\n",
    "    alpha=0.8,\n",
    "    linestyle=\"--\",\n",
    ")"
   ]
  },
  {
   "cell_type": "code",
   "execution_count": null,
   "id": "22a9e8ed",
   "metadata": {
    "slideshow": {
     "slide_type": "slide"
    }
   },
   "outputs": [],
   "source": [
    "fig1 = plt.figure(figsize=(15, 15), layout=\"constrained\")\n",
    "\n",
    "ax1 = fig1.add_subplot(121, projection=ccrs.PlateCarree())\n",
    "ax2 = fig1.add_subplot(122, projection=ccrs.PlateCarree())\n",
    "ax1.set_extent([\n",
    "    phyc_adriatic_sea_1km.longitude.min(),\n",
    "    phyc_adriatic_sea_1km.longitude.max(),\n",
    "    phyc_adriatic_sea_1km.latitude.min(),\n",
    "    phyc_adriatic_sea_1km.latitude.max()\n",
    "], crs=ccrs.PlateCarree())\n",
    "\n",
    "for axes in [ax1, ax2]:\n",
    "    axes.axis(\"off\")\n",
    "    axes.set_xticks(ax1.get_xticks())\n",
    "    axes.set_yticks(ax1.get_yticks())\n",
    "    axes.add_feature(cartopy.feature.LAND)\n",
    "    axes.add_feature(cartopy.feature.OCEAN)\n",
    "    axes.add_feature(cartopy.feature.COASTLINE)\n",
    "    axes.add_feature(cartopy.feature.BORDERS, edgecolor=\"k\", linestyle=\":\")\n",
    "    axes.add_feature(cartopy.feature.LAKES)\n",
    "    axes.add_feature(cartopy.feature.RIVERS, edgecolor=\"b\")\n",
    "    axes.gridlines(\n",
    "        crs=ccrs.PlateCarree(),\n",
    "        draw_labels=True,\n",
    "        linewidth=1,\n",
    "        edgecolor=\"gray\",\n",
    "        alpha=0.5,\n",
    "        linestyle=\"--\",\n",
    "    )\n",
    "    axes.set_title(phyc_adriatic_sea_1km.long_name)\n",
    "\n",
    "cmesh = ax1.pcolormesh(\n",
    "    phyc_adriatic_sea_1km.longitude, \n",
    "    phyc_adriatic_sea_1km.latitude, \n",
    "    phyc_adriatic_sea_1km.values\n",
    ")\n",
    "\n",
    "countour = ax2.contourf(\n",
    "    phyc_adriatic_sea_1km.longitude, \n",
    "    phyc_adriatic_sea_1km.latitude, \n",
    "    phyc_adriatic_sea_1km.values,\n",
    "    levels, \n",
    "    cmap='jet'\n",
    ")"
   ]
  },
  {
   "cell_type": "code",
   "execution_count": null,
   "id": "63828ddd",
   "metadata": {
    "slideshow": {
     "slide_type": "slide"
    }
   },
   "outputs": [],
   "source": [
    "import matplotlib as mpl\n",
    "fig1 = plt.figure(figsize=(15, 30), layout=\"constrained\")\n",
    "\n",
    "ax1 = fig1.add_subplot(121, projection=ccrs.PlateCarree())\n",
    "ax2 = fig1.add_subplot(122, projection=ccrs.PlateCarree())\n",
    "ax1.set_extent([\n",
    "    phyc_adriatic_sea_1km.longitude.min(),\n",
    "    phyc_adriatic_sea_1km.longitude.max(),\n",
    "    phyc_adriatic_sea_1km.latitude.min(),\n",
    "    phyc_adriatic_sea_1km.latitude.max()\n",
    "], crs=ccrs.PlateCarree())\n",
    "\n",
    "for axes in [ax1, ax2]:\n",
    "    axes.axis(\"off\")\n",
    "    axes.set_xticks(ax1.get_xticks())\n",
    "    axes.set_yticks(ax1.get_yticks())\n",
    "    axes.add_feature(cartopy.feature.LAND)\n",
    "    axes.add_feature(cartopy.feature.OCEAN)\n",
    "    axes.add_feature(cartopy.feature.COASTLINE)\n",
    "    axes.add_feature(cartopy.feature.BORDERS, edgecolor=\"k\", linestyle=\":\")\n",
    "    axes.add_feature(cartopy.feature.LAKES)\n",
    "    axes.add_feature(cartopy.feature.RIVERS, edgecolor=\"b\")\n",
    "    axes.gridlines(\n",
    "        crs=ccrs.PlateCarree(),\n",
    "        draw_labels=True,\n",
    "        linewidth=1,\n",
    "        edgecolor=\"gray\",\n",
    "        alpha=0.5,\n",
    "        linestyle=\"--\",\n",
    "    )\n",
    "    cmap=mpl.cm.turbo\n",
    "    levels = np.linspace(np.round(phyc_adriatic_sea_1km.min().values,3),np.round(phyc_adriatic_sea_1km.max().values,3),11)\n",
    "    axes.set_title(phyc_adriatic_sea_1km.long_name)\n",
    "    norm = mpl.colors.BoundaryNorm(levels, cmap.N)\n",
    "    fig1.colorbar(\n",
    "        mpl.cm.ScalarMappable(cmap=cmap, norm=norm),\n",
    "        ax=axes,\n",
    "        ticks=levels,\n",
    "        spacing=\"uniform\",\n",
    "        orientation=\"horizontal\",\n",
    "        label=f\"{phyc_adriatic_sea_1km.long_name}\\n[{phyc_adriatic_sea_1km.units}]\",\n",
    "        anchor=(1, 2),\n",
    "        )\n",
    "\n",
    "cmesh = ax1.pcolormesh(\n",
    "    phyc_adriatic_sea_1km.longitude,\n",
    "    phyc_adriatic_sea_1km.latitude,\n",
    "    phyc_adriatic_sea_1km.values,\n",
    "    cmap=cmap\n",
    ")\n",
    "\n",
    "countour = ax2.contourf(\n",
    "    phyc_adriatic_sea_1km.longitude, \n",
    "    phyc_adriatic_sea_1km.latitude, \n",
    "    phyc_adriatic_sea_1km.values,\n",
    "    cmap=cmap\n",
    ")"
   ]
  },
  {
   "cell_type": "markdown",
   "id": "442729fe",
   "metadata": {
    "slideshow": {
     "slide_type": "slide"
    }
   },
   "source": [
    "### Filter and eliminate values below 1E-5"
   ]
  },
  {
   "cell_type": "code",
   "execution_count": null,
   "id": "702c8988",
   "metadata": {},
   "outputs": [],
   "source": [
    "phyc_filter = xr.where(\n",
    "    (phytoplankton_1km.values < 1E-5) , np.nan, phytoplankton_1km)\n",
    "phyc_filter"
   ]
  },
  {
   "cell_type": "code",
   "execution_count": null,
   "id": "41b31f48",
   "metadata": {
    "slideshow": {
     "slide_type": "slide"
    }
   },
   "outputs": [],
   "source": [
    "import matplotlib as mpl\n",
    "fig1 = plt.figure(figsize=(15, 8), layout='constrained')\n",
    "\n",
    "ax1 = fig1.add_subplot(211, projection=ccrs.PlateCarree())\n",
    "ax2 = fig1.add_subplot(212, projection=ccrs.PlateCarree())\n",
    "\n",
    "\n",
    "for axes in [ax1, ax2]:\n",
    "    axes.set_extent([\n",
    "    phyc_filter.longitude.min(),\n",
    "    phyc_filter.longitude.max(),\n",
    "    phyc_filter.latitude.min(),\n",
    "    phyc_filter.latitude.max()\n",
    "], crs=ccrs.PlateCarree())\n",
    "    axes.axis(\"off\")\n",
    "    axes.set_xticks(ax1.get_xticks())\n",
    "    axes.set_yticks(ax1.get_yticks())\n",
    "    axes.add_feature(cartopy.feature.LAND)\n",
    "    axes.add_feature(cartopy.feature.OCEAN)\n",
    "    axes.add_feature(cartopy.feature.COASTLINE)\n",
    "    axes.add_feature(cartopy.feature.BORDERS, edgecolor=\"k\", linestyle=\":\")\n",
    "    axes.add_feature(cartopy.feature.LAKES)\n",
    "    axes.add_feature(cartopy.feature.RIVERS, edgecolor=\"b\")\n",
    "    axes.gridlines(\n",
    "        crs=ccrs.PlateCarree(),\n",
    "        draw_labels=True,\n",
    "        linewidth=1,\n",
    "        edgecolor=\"gray\",\n",
    "        alpha=0.5,\n",
    "        linestyle=\"--\",\n",
    "    )\n",
    "    cmap=mpl.cm.turbo\n",
    "    levels = np.linspace(np.round(phyc_adriatic_sea_1km.min().values,3),np.round(phyc_adriatic_sea_1km.max().values,3),11)\n",
    "    axes.set_title(phyc_adriatic_sea_1km.long_name)\n",
    "    norm = mpl.colors.BoundaryNorm(levels, cmap.N)\n",
    "    fig1.colorbar(\n",
    "        mpl.cm.ScalarMappable(cmap=cmap, norm=norm),\n",
    "        ax=axes,\n",
    "        ticks=levels,\n",
    "        spacing=\"uniform\",\n",
    "        orientation=\"vertical\",\n",
    "        label=f\"{phyc_adriatic_sea_1km.long_name}\\n[{phyc_adriatic_sea_1km.units}]\",\n",
    "        anchor=(0, 0),\n",
    "        )\n",
    "\n",
    "cmesh = ax1.pcolormesh(\n",
    "    phyc_filter.longitude,\n",
    "    phyc_filter.latitude,\n",
    "    phyc_filter[0,0].values,\n",
    "    cmap=cmap\n",
    ")\n",
    "\n",
    "countour = ax2.contourf(\n",
    "    phyc_filter.longitude, \n",
    "    phyc_filter.latitude, \n",
    "    phyc_filter[0,0].values,\n",
    "    cmap=cmap\n",
    ")"
   ]
  },
  {
   "cell_type": "code",
   "execution_count": null,
   "id": "845f9747-9397-41e5-ae54-4c0bf5022d75",
   "metadata": {},
   "outputs": [],
   "source": []
  }
 ],
 "metadata": {
  "celltoolbar": "Slideshow",
  "kernelspec": {
   "display_name": "Python 3 (ipykernel)",
   "language": "python",
   "name": "python3"
  },
  "language_info": {
   "codemirror_mode": {
    "name": "ipython",
    "version": 3
   },
   "file_extension": ".py",
   "mimetype": "text/x-python",
   "name": "python",
   "nbconvert_exporter": "python",
   "pygments_lexer": "ipython3",
   "version": "3.13.0"
  }
 },
 "nbformat": 4,
 "nbformat_minor": 5
}
